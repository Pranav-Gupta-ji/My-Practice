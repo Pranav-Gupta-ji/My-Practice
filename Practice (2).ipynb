{
 "cells": [
  {
   "cell_type": "markdown",
   "id": "409861ff-3da0-44ea-ba82-7816749a18b4",
   "metadata": {},
   "source": [
    "# User Based Output of Data"
   ]
  },
  {
   "cell_type": "code",
   "execution_count": 5,
   "id": "213f4bea-daad-47d8-859e-db28179e2a11",
   "metadata": {},
   "outputs": [
    {
     "name": "stdin",
     "output_type": "stream",
     "text": [
      "any value of L 10\n",
      "any value of B 20\n"
     ]
    },
    {
     "name": "stdout",
     "output_type": "stream",
     "text": [
      "200\n",
      "60\n"
     ]
    }
   ],
   "source": [
    "##rectangle\n",
    "L=int(input('any value of L'))\n",
    "B=int(input('any value of B'))\n",
    "Area=L*B\n",
    "print(Area)\n",
    "perimeter=2*(L+B)\n",
    "print(perimeter)"
   ]
  },
  {
   "cell_type": "code",
   "execution_count": 6,
   "id": "edbb238f-e4ed-420c-92c1-18f71be2c030",
   "metadata": {},
   "outputs": [
    {
     "name": "stdin",
     "output_type": "stream",
     "text": [
      "any value of S 30\n"
     ]
    },
    {
     "name": "stdout",
     "output_type": "stream",
     "text": [
      "900\n",
      "120\n"
     ]
    }
   ],
   "source": [
    "#square\n",
    "S=int(input('any value of S'))\n",
    "Area=S**2\n",
    "print(Area)\n",
    "p=4*S\n",
    "print(p)"
   ]
  },
  {
   "cell_type": "code",
   "execution_count": 7,
   "id": "8516e2c4-4fff-40ce-be29-50e69683563c",
   "metadata": {},
   "outputs": [
    {
     "name": "stdin",
     "output_type": "stream",
     "text": [
      "any value of B1 30\n",
      "any value of B2 60\n",
      "any value of H 20\n"
     ]
    },
    {
     "name": "stdout",
     "output_type": "stream",
     "text": [
      "900.0\n"
     ]
    }
   ],
   "source": [
    "#TRAPIZIUM\n",
    "B1=int(input('any value of B1'))\n",
    "B2=int(input('any value of B2'))\n",
    "H=int(input('any value of H'))\n",
    "Area=1/2*(B1+B2)*H\n",
    "print(Area)"
   ]
  },
  {
   "cell_type": "code",
   "execution_count": 9,
   "id": "0e18dfe1-ceef-4724-a2da-29eb57886a42",
   "metadata": {},
   "outputs": [
    {
     "name": "stdin",
     "output_type": "stream",
     "text": [
      "Enter value of R 10\n"
     ]
    },
    {
     "name": "stdout",
     "output_type": "stream",
     "text": [
      "314.0\n",
      "62.800000000000004\n"
     ]
    }
   ],
   "source": [
    "#cirle\n",
    "R=int(input('Enter value of R'))\n",
    "Area=3.14*(R**2)\n",
    "print(Area)\n",
    "Circumference=(2*R)*3.14\n",
    "print(Circumference)"
   ]
  },
  {
   "cell_type": "code",
   "execution_count": 10,
   "id": "456bbc86-d684-4728-aafb-958c484de645",
   "metadata": {},
   "outputs": [],
   "source": [
    "# 3D GEOMETRY"
   ]
  },
  {
   "cell_type": "code",
   "execution_count": 11,
   "id": "66a7f405-cdbe-4021-a6bc-f1c05a0a5622",
   "metadata": {},
   "outputs": [],
   "source": [
    "## Cureved surface Area (C), Volume (V) and Surface Area (S)"
   ]
  },
  {
   "cell_type": "code",
   "execution_count": 13,
   "id": "b88ff11d-c515-410d-bc5c-5de4f2b1d86c",
   "metadata": {},
   "outputs": [
    {
     "name": "stdin",
     "output_type": "stream",
     "text": [
      "Enter any value of r 20\n",
      "Enter any value of h 30\n"
     ]
    },
    {
     "name": "stdout",
     "output_type": "stream",
     "text": [
      "3768.0000000000005\n",
      "6280.0\n",
      "37680.0\n"
     ]
    }
   ],
   "source": [
    "#CYLINDER\n",
    "r=int(input('Enter any value of r'))\n",
    "h=int(input('Enter any value of h'))\n",
    "S=2*3.14*r*h\n",
    "print(S)\n",
    "Total_S=(2*r*3.14)*(r+h)\n",
    "print(Total_S)\n",
    "V=3.14*(r**2)*h\n",
    "print(V)\n"
   ]
  },
  {
   "cell_type": "code",
   "execution_count": 14,
   "id": "820c5ea6-3ba4-48b2-b74b-54af718874a2",
   "metadata": {},
   "outputs": [
    {
     "name": "stdin",
     "output_type": "stream",
     "text": [
      "Enter any value of r 20\n",
      "Enter any value of l 30\n"
     ]
    },
    {
     "name": "stdout",
     "output_type": "stream",
     "text": [
      "1884.0000000000002\n",
      "1884.0000000000002\n",
      "3140.0\n",
      "12559.999999999998\n"
     ]
    }
   ],
   "source": [
    "# Cone\n",
    "r=int(input('Enter any value of r'))\n",
    "l=int(input('Enter any value of l'))\n",
    "C=3.14*r*l\n",
    "print(C)\n",
    "S=3.14*r*l\n",
    "print(S)\n",
    "Total_S=3.14*r*(r+l)\n",
    "print(Total_S)\n",
    "V=1/3*(3.14)*(r**2)*h\n",
    "print(V)\n"
   ]
  },
  {
   "cell_type": "code",
   "execution_count": 15,
   "id": "db349b9d-ebcd-4932-b29a-0c8e24459242",
   "metadata": {},
   "outputs": [
    {
     "name": "stdin",
     "output_type": "stream",
     "text": [
      "Enter value of r 20\n"
     ]
    },
    {
     "name": "stdout",
     "output_type": "stream",
     "text": [
      "5024.0\n",
      "33493.333333333336\n"
     ]
    }
   ],
   "source": [
    "# SPHERE\n",
    "r=int(input('Enter value of r'))\n",
    "S=4*(3.14)*r**2\n",
    "print(S)\n",
    "V=4/3*(3.14)*(r**3)\n",
    "print(V)"
   ]
  },
  {
   "cell_type": "markdown",
   "id": "6d447023-65a5-46c0-9f15-e519804d85fb",
   "metadata": {},
   "source": [
    "# Condition Operator"
   ]
  },
  {
   "cell_type": "markdown",
   "id": "34c591e8-9227-4265-acde-dc37c67821f7",
   "metadata": {},
   "source": [
    "## if, else, and elif operator"
   ]
  },
  {
   "cell_type": "code",
   "execution_count": 6,
   "id": "d15b7f5f-acad-4b1c-9314-637e4dbd34a1",
   "metadata": {},
   "outputs": [
    {
     "name": "stdin",
     "output_type": "stream",
     "text": [
      "Enter the Marks 66\n"
     ]
    },
    {
     "name": "stdout",
     "output_type": "stream",
     "text": [
      "Grade C\n"
     ]
    }
   ],
   "source": [
    "#write a program to accept percentage form the user and display the grade according following criteria\n",
    "\n",
    "M=int(input('Enter the Marks'))\n",
    "if(M>90):\n",
    "    print('Grade A')\n",
    "elif(80<M>=90):\n",
    "    print('Grade B')\n",
    "elif(80>=M>=60):\n",
    "    print('Grade C')\n",
    "else: print('Grade D') "
   ]
  },
  {
   "cell_type": "code",
   "execution_count": 8,
   "id": "4b9cba34-8d4a-4a27-8bf0-2619c4ba28e4",
   "metadata": {},
   "outputs": [
    {
     "name": "stdin",
     "output_type": "stream",
     "text": [
      "Enter the Cost Price (in Rs) 324000\n"
     ]
    },
    {
     "name": "stdout",
     "output_type": "stream",
     "text": [
      "Tax 15%\n"
     ]
    }
   ],
   "source": [
    "# WRITE a program to accept the cost price of a bike and display the road tax to be paid according to the following criteria:\n",
    "P=int(input('Enter the Cost Price (in Rs)'))\n",
    "if(P>100000):\n",
    "    print('Tax 15%')\n",
    "elif(50000<P<=100000):\n",
    "    print('Tax 10%')\n",
    "else:print('Tax 5%')\n"
   ]
  },
  {
   "cell_type": "markdown",
   "id": "c800f158-f4d7-4512-b945-58e854c7b8bf",
   "metadata": {},
   "source": [
    "### While Loop"
   ]
  },
  {
   "cell_type": "code",
   "execution_count": 17,
   "id": "a14b5817-df90-44a4-8d76-3175c15d8726",
   "metadata": {},
   "outputs": [
    {
     "name": "stdout",
     "output_type": "stream",
     "text": [
      "1\n",
      "2\n",
      "3\n",
      "4\n",
      "5\n",
      "6\n",
      "7\n",
      "8\n",
      "9\n",
      "10\n",
      "complet\n"
     ]
    }
   ],
   "source": [
    "i=1\n",
    "while(i<=10):\n",
    "    print(i)\n",
    "   \n",
    "    i=i+1\n",
    "print('complet')\n"
   ]
  },
  {
   "cell_type": "code",
   "execution_count": 26,
   "id": "df5e1ffd-f01e-424b-be61-4d676e82be42",
   "metadata": {},
   "outputs": [
    {
     "name": "stdout",
     "output_type": "stream",
     "text": [
      "2\n",
      "4\n",
      "6\n",
      "8\n",
      "10\n",
      "12\n",
      "14\n",
      "16\n",
      "18\n",
      "20\n"
     ]
    }
   ],
   "source": [
    "#first 10 even no.\n",
    "a=2\n",
    "while(a<20):\n",
    "    print(a)\n",
    "    a=a+2\n",
    "    \n",
    "print(a)\n"
   ]
  },
  {
   "cell_type": "code",
   "execution_count": 34,
   "id": "a34a5d95-91c9-4f7c-8f59-c99122a6fee1",
   "metadata": {},
   "outputs": [
    {
     "name": "stdout",
     "output_type": "stream",
     "text": [
      "1\n",
      "3\n",
      "5\n",
      "7\n",
      "9\n",
      "11\n",
      "13\n",
      "15\n",
      "17\n",
      "19\n",
      "21\n"
     ]
    }
   ],
   "source": [
    "# first 10 odd no.\n",
    "a=1\n",
    "while(a<20):\n",
    "    print(a)\n",
    "    a=(a+2)\n",
    "print(a)"
   ]
  },
  {
   "cell_type": "code",
   "execution_count": 32,
   "id": "07d8cb63-d03e-439c-ae83-8c79685cc24b",
   "metadata": {},
   "outputs": [
    {
     "name": "stdout",
     "output_type": "stream",
     "text": [
      "1\n",
      "2\n",
      "3\n",
      "4\n",
      "5\n",
      "6\n",
      "7\n",
      "8\n",
      "9\n",
      "10\n"
     ]
    }
   ],
   "source": [
    "# 1st 10 natural no.\n",
    "a=1\n",
    "while(a<10):\n",
    "    print(a)\n",
    "    a=(a+1)\n",
    "print(a)\n",
    "    "
   ]
  },
  {
   "cell_type": "code",
   "execution_count": 31,
   "id": "b1a229e5-886d-4402-8ad3-6fc46c2e22da",
   "metadata": {},
   "outputs": [
    {
     "name": "stdout",
     "output_type": "stream",
     "text": [
      "0\n",
      "1\n",
      "2\n",
      "3\n",
      "4\n",
      "5\n",
      "6\n",
      "7\n",
      "8\n",
      "9\n"
     ]
    }
   ],
   "source": [
    "#1st 10 whole no.\n",
    "a=0\n",
    "while(a<9):\n",
    "    print(a)\n",
    "    a=a+1\n",
    "      \n",
    "print(a)\n"
   ]
  },
  {
   "cell_type": "code",
   "execution_count": null,
   "id": "c593dd0e-5e18-4955-baaf-36ce56fe16f0",
   "metadata": {},
   "outputs": [],
   "source": [
    "#1st 10 integer and their square using while loop\n",
    "a=1\n",
    "n=2\n",
    "while(a<=10):\n",
    "    print(a)\n",
    "    a=a**n\n",
    "print(a\")\n",
    "\n"
   ]
  },
  {
   "cell_type": "code",
   "execution_count": 23,
   "id": "6cd42436-1792-4fe2-ab84-b66d3a7e66b0",
   "metadata": {},
   "outputs": [
    {
     "name": "stdout",
     "output_type": "stream",
     "text": [
      "Number\t\tSquare\n",
      "1 \t\t 1\n",
      "2 \t\t 4\n",
      "3 \t\t 9\n",
      "4 \t\t 16\n",
      "5 \t\t 25\n",
      "6 \t\t 36\n",
      "7 \t\t 49\n",
      "8 \t\t 64\n",
      "9 \t\t 81\n",
      "10 \t\t 100\n"
     ]
    }
   ],
   "source": [
    "#1st 10 integer and their square using while loop\n",
    "a=1\n",
    "n=2\n",
    "print(\"Number\\t\\tSquare\")\n",
    "while(a<=10):\n",
    "    print(a, \"\\t\\t\",a**n)\n",
    "    a=a+1"
   ]
  },
  {
   "cell_type": "code",
   "execution_count": 28,
   "id": "506af4e1-2980-4393-a03c-96d26a31c5bc",
   "metadata": {},
   "outputs": [
    {
     "name": "stdout",
     "output_type": "stream",
     "text": [
      "10\n",
      "20\n",
      "30\n",
      "40\n",
      "50\n",
      "60\n",
      "70\n",
      "80\n",
      "90\n",
      "100\n",
      "110\n",
      "120\n",
      "130\n",
      "140\n",
      "150\n",
      "160\n",
      "170\n",
      "180\n",
      "190\n",
      "200\n",
      "210\n",
      "220\n",
      "230\n",
      "240\n",
      "250\n",
      "260\n",
      "270\n",
      "280\n",
      "290\n",
      "300\n"
     ]
    }
   ],
   "source": [
    "# Write for loop statement to print the following series:10,20,30,.....300.\n",
    "i=1\n",
    "n=10\n",
    "while(i<=30):\n",
    "    print(i*n)\n",
    "    i=i+1\n",
    "    \n",
    "    \n",
    "\n"
   ]
  },
  {
   "cell_type": "code",
   "execution_count": 32,
   "id": "c4d6f639-a362-4e7a-8b01-9943f75deb9b",
   "metadata": {},
   "outputs": [
    {
     "name": "stdout",
     "output_type": "stream",
     "text": [
      "105\n",
      "98\n",
      "91\n",
      "84\n",
      "77\n",
      "70\n",
      "63\n",
      "56\n",
      "49\n",
      "42\n",
      "35\n",
      "28\n",
      "21\n",
      "14\n",
      "7\n"
     ]
    }
   ],
   "source": [
    "i=15\n",
    "n=7\n",
    "while(i>=1):\n",
    "    print(i*n)\n",
    "    i=i-1"
   ]
  },
  {
   "cell_type": "code",
   "execution_count": 33,
   "id": "598bf96f-09de-42e0-bc0b-577fb1ca2f6e",
   "metadata": {},
   "outputs": [
    {
     "name": "stdout",
     "output_type": "stream",
     "text": [
      "10\n",
      "9\n",
      "8\n",
      "7\n",
      "6\n",
      "5\n",
      "4\n",
      "3\n",
      "2\n",
      "1\n"
     ]
    }
   ],
   "source": [
    "# Write a program to print first 10 natural number in reverse order using while loop.\n",
    "i=10\n",
    "while(i>=1):\n",
    "    print(i)\n",
    "    i=i-1"
   ]
  },
  {
   "cell_type": "markdown",
   "id": "6339d83b-d48d-4795-8ee9-25f00799600f",
   "metadata": {},
   "source": [
    "## For Loop"
   ]
  },
  {
   "cell_type": "code",
   "execution_count": 1,
   "id": "f6beb294-9010-4f21-ba5e-bcc905445d38",
   "metadata": {},
   "outputs": [
    {
     "name": "stdout",
     "output_type": "stream",
     "text": [
      "M\n",
      "Y\n",
      " \n",
      "B\n",
      "l\n",
      "o\n",
      "g\n"
     ]
    }
   ],
   "source": [
    "for i in \"MY Blog\":\n",
    "    print(i)"
   ]
  },
  {
   "cell_type": "code",
   "execution_count": 2,
   "id": "73ae51f8-30ae-4a49-961d-b1fbc4e5de36",
   "metadata": {},
   "outputs": [
    {
     "name": "stdout",
     "output_type": "stream",
     "text": [
      "5\n",
      "15\n",
      "25\n",
      "35\n",
      "45\n",
      "55\n",
      "65\n",
      "75\n",
      "85\n",
      "95\n",
      "105\n",
      "115\n"
     ]
    }
   ],
   "source": [
    "for i in range(5,125,10):\n",
    "    print(i)"
   ]
  },
  {
   "cell_type": "code",
   "execution_count": 6,
   "id": "689d193b-d51e-4869-a69c-a8ba73e9c9c6",
   "metadata": {},
   "outputs": [
    {
     "name": "stdout",
     "output_type": "stream",
     "text": [
      "1\n",
      "2\n",
      "3\n",
      "4\n",
      "5\n",
      "6\n",
      "7\n",
      "8\n",
      "9\n",
      "10\n"
     ]
    }
   ],
   "source": [
    "#Program to print 1st 10 natural no. \n",
    "for i in range(1,11):\n",
    "    print(i)"
   ]
  },
  {
   "cell_type": "code",
   "execution_count": 7,
   "id": "f617870e-f390-4434-85e4-04311a11eab0",
   "metadata": {},
   "outputs": [
    {
     "name": "stdout",
     "output_type": "stream",
     "text": [
      "1\n",
      "3\n",
      "5\n",
      "7\n",
      "9\n",
      "11\n",
      "13\n",
      "15\n",
      "17\n",
      "19\n"
     ]
    }
   ],
   "source": [
    "#Program to print 1st 10 odd no.\n",
    "for i in range(1,20,2):\n",
    "    print(i)"
   ]
  },
  {
   "cell_type": "code",
   "execution_count": 12,
   "id": "de56392d-09cf-4cb5-a563-89efcb15e28b",
   "metadata": {},
   "outputs": [
    {
     "name": "stdout",
     "output_type": "stream",
     "text": [
      "19\n",
      "17\n",
      "15\n",
      "13\n",
      "11\n",
      "9\n",
      "7\n",
      "5\n",
      "3\n",
      "1\n"
     ]
    }
   ],
   "source": [
    "# reverse the above\n",
    "for i in range(19,0,-2):\n",
    "    print(i)"
   ]
  },
  {
   "cell_type": "code",
   "execution_count": 9,
   "id": "12e4241e-f4b9-4cd5-88cd-55f5b485736b",
   "metadata": {},
   "outputs": [
    {
     "name": "stdout",
     "output_type": "stream",
     "text": [
      "2\n",
      "4\n",
      "6\n",
      "8\n",
      "10\n",
      "12\n",
      "14\n",
      "16\n",
      "18\n",
      "20\n"
     ]
    }
   ],
   "source": [
    "#Program to print 1st 10 even no.\n",
    "for i in range(2,21,2):\n",
    "    print(i)"
   ]
  },
  {
   "cell_type": "code",
   "execution_count": 13,
   "id": "70b91087-2a1d-4e1a-9f02-86acfeeb2468",
   "metadata": {},
   "outputs": [
    {
     "name": "stdout",
     "output_type": "stream",
     "text": [
      "20\n",
      "18\n",
      "16\n",
      "14\n",
      "12\n",
      "10\n",
      "8\n",
      "6\n",
      "4\n",
      "2\n"
     ]
    }
   ],
   "source": [
    "# reverse the above program\n",
    "for i in range(20,1,-2):\n",
    "    print(i)"
   ]
  },
  {
   "cell_type": "code",
   "execution_count": 15,
   "id": "9e031cd7-b8d6-4ee5-9cd1-46c0997411f4",
   "metadata": {},
   "outputs": [
    {
     "name": "stdin",
     "output_type": "stream",
     "text": [
      "Enter value of n 6\n"
     ]
    },
    {
     "name": "stdout",
     "output_type": "stream",
     "text": [
      "6\n",
      "12\n",
      "18\n",
      "24\n",
      "30\n",
      "36\n",
      "42\n",
      "48\n",
      "54\n",
      "60\n"
     ]
    }
   ],
   "source": [
    "n=int(input('Enter value of n'))\n",
    "for i in range(1,11):\n",
    "    print(i*n)"
   ]
  },
  {
   "cell_type": "code",
   "execution_count": 11,
   "id": "3193fc2d-30d4-4da6-aeb6-11d7350bb12e",
   "metadata": {},
   "outputs": [
    {
     "name": "stdin",
     "output_type": "stream",
     "text": [
      "Enter value of G 10\n"
     ]
    },
    {
     "name": "stdout",
     "output_type": "stream",
     "text": [
      "product of digit 0\n"
     ]
    }
   ],
   "source": [
    "G=int(input('Enter value of G'))\n",
    "i=1\n",
    "while(G>0):\n",
    "    r=G%10\n",
    "    i=i*r\n",
    "    G//=10\n",
    "print('product of digit',i)"
   ]
  },
  {
   "cell_type": "code",
   "execution_count": 17,
   "id": "f4939db0-34e6-4f29-905f-d2e565c7eaf2",
   "metadata": {},
   "outputs": [
    {
     "name": "stdin",
     "output_type": "stream",
     "text": [
      "Enter no.:  44\n"
     ]
    },
    {
     "name": "stdout",
     "output_type": "stream",
     "text": [
      "product of digit 16\n"
     ]
    }
   ],
   "source": [
    "n=(input('Enter no.: '))\n",
    "p=1\n",
    "for d in n:\n",
    "    p=int(d)*p\n",
    "print('product of digit',p)"
   ]
  },
  {
   "cell_type": "code",
   "execution_count": 19,
   "id": "737eac76-2d96-4182-8639-52e2ca793ff9",
   "metadata": {},
   "outputs": [
    {
     "name": "stdin",
     "output_type": "stream",
     "text": [
      "Enter value of n 6\n"
     ]
    },
    {
     "name": "stdout",
     "output_type": "stream",
     "text": [
      "Factorial is 720\n"
     ]
    }
   ],
   "source": [
    "n=int(input('Enter value of n'))\n",
    "f=1\n",
    "i=1\n",
    "while(n>=i):\n",
    "    f=f*i\n",
    "    i=i+1\n",
    "print('Factorial is',f)\n",
    "    "
   ]
  },
  {
   "cell_type": "code",
   "execution_count": 25,
   "id": "fe3ed07f-9105-4b36-b8d2-58743e467326",
   "metadata": {},
   "outputs": [
    {
     "name": "stdout",
     "output_type": "stream",
     "text": [
      "1 \n",
      "1 2 \n",
      "1 2 3 \n",
      "1 2 3 4 \n"
     ]
    }
   ],
   "source": [
    "for i in range(1,5):\n",
    "    for j in range(1,i+1):\n",
    "        print(j,end=\" \")\n",
    "        \n",
    "    print()\n"
   ]
  },
  {
   "cell_type": "code",
   "execution_count": null,
   "id": "01ea8ef5-9f6d-44dd-955b-d5e3bc3452fa",
   "metadata": {},
   "outputs": [],
   "source": [
    "for i in range ("
   ]
  },
  {
   "cell_type": "code",
   "execution_count": null,
   "id": "5727db85-58b4-4fa2-86c5-f7f6313cc20a",
   "metadata": {},
   "outputs": [],
   "source": []
  },
  {
   "cell_type": "code",
   "execution_count": null,
   "id": "2385d57b-e42f-462a-86ac-e8210eb10715",
   "metadata": {},
   "outputs": [],
   "source": []
  },
  {
   "cell_type": "code",
   "execution_count": null,
   "id": "df5745cb-3945-4b4d-92ef-35390ffa9c6f",
   "metadata": {},
   "outputs": [],
   "source": []
  },
  {
   "cell_type": "code",
   "execution_count": null,
   "id": "e68216bb-cbb4-4eb0-ac29-09a47be637af",
   "metadata": {},
   "outputs": [],
   "source": []
  },
  {
   "cell_type": "code",
   "execution_count": null,
   "id": "f49a4e15-a46a-4b5c-b5d3-456c3fa7c44a",
   "metadata": {},
   "outputs": [],
   "source": []
  },
  {
   "cell_type": "code",
   "execution_count": null,
   "id": "c89510ec-28a7-44a2-9078-be1dd2a4d084",
   "metadata": {},
   "outputs": [],
   "source": []
  },
  {
   "cell_type": "code",
   "execution_count": null,
   "id": "9df58027-1379-4c22-a129-566887be9733",
   "metadata": {},
   "outputs": [],
   "source": []
  }
 ],
 "metadata": {
  "kernelspec": {
   "display_name": "Python 3 (ipykernel)",
   "language": "python",
   "name": "python3"
  },
  "language_info": {
   "codemirror_mode": {
    "name": "ipython",
    "version": 3
   },
   "file_extension": ".py",
   "mimetype": "text/x-python",
   "name": "python",
   "nbconvert_exporter": "python",
   "pygments_lexer": "ipython3",
   "version": "3.13.3"
  }
 },
 "nbformat": 4,
 "nbformat_minor": 5
}
