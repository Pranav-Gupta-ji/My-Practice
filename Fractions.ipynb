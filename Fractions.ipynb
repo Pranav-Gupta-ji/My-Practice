{
 "cells": [
  {
   "cell_type": "code",
   "execution_count": 4,
   "id": "7449c887-c459-499e-9589-20dbced49a77",
   "metadata": {},
   "outputs": [
    {
     "name": "stdout",
     "output_type": "stream",
     "text": [
      "3/5\n",
      "8/3\n",
      "0\n"
     ]
    }
   ],
   "source": [
    "from fractions import Fraction\n",
    "\n",
    "print(Fraction(3,5))\n",
    "print(Fraction(8,3))\n",
    "print(Fraction())"
   ]
  },
  {
   "cell_type": "code",
   "execution_count": 5,
   "id": "8c119a7e-fdc7-41e2-9352-7286baa64c53",
   "metadata": {},
   "outputs": [
    {
     "name": "stdout",
     "output_type": "stream",
     "text": [
      "3/7\n"
     ]
    }
   ],
   "source": [
    "a=Fraction(3,7)\n",
    "print(Fraction(a))"
   ]
  },
  {
   "cell_type": "code",
   "execution_count": 7,
   "id": "c9380292-ef72-43cc-b5d7-d4b38298bcca",
   "metadata": {},
   "outputs": [
    {
     "name": "stdout",
     "output_type": "stream",
     "text": [
      "2116691824864133/562949953421312\n",
      "6124895493223875/18014398509481984\n",
      "6980579422424269/562949953421312\n"
     ]
    }
   ],
   "source": [
    "print(Fraction(3.76))\n",
    "print(Fraction(0.34))\n",
    "print(Fraction(12.4))"
   ]
  },
  {
   "cell_type": "code",
   "execution_count": 9,
   "id": "fa2f6251-12f5-4cf0-86ca-20bd83053e78",
   "metadata": {},
   "outputs": [
    {
     "name": "stdout",
     "output_type": "stream",
     "text": [
      "7/4\n",
      "8/5\n"
     ]
    }
   ],
   "source": [
    "print(Fraction('7/4'))\n",
    "print(Fraction('1.6'))"
   ]
  },
  {
   "cell_type": "code",
   "execution_count": 14,
   "id": "5e7160df-5185-4457-9b49-76ab6675dbeb",
   "metadata": {},
   "outputs": [
    {
     "name": "stdout",
     "output_type": "stream",
     "text": [
      "2589569785738035/562949953421312\n",
      "23/5\n",
      "62/5\n"
     ]
    }
   ],
   "source": [
    "print(Fraction(4.6))\n",
    "print(Fraction(4.6).limit_denominator())\n",
    "print(Fraction(12.4).limit_denominator())"
   ]
  },
  {
   "cell_type": "code",
   "execution_count": 15,
   "id": "b81f556d-b435-47d1-b5c6-89973c32178f",
   "metadata": {},
   "outputs": [
    {
     "name": "stdout",
     "output_type": "stream",
     "text": [
      "6/7\n",
      "-1/8\n",
      "9/49\n",
      "3/7\n"
     ]
    }
   ],
   "source": [
    "import math\n",
    "from fractions import Fraction\n",
    "print(Fraction(3,7)+Fraction(3,7))\n",
    "print(Fraction(5,8)-Fraction(3,4))\n",
    "print(Fraction(3,7)*Fraction(3,7))\n",
    "print(Fraction(9,49)/Fraction(3,7))"
   ]
  },
  {
   "cell_type": "code",
   "execution_count": 16,
   "id": "c375bf2b-e324-42d7-acfe-a16981b76e93",
   "metadata": {},
   "outputs": [
    {
     "name": "stdout",
     "output_type": "stream",
     "text": [
      "2.3333333333333335\n"
     ]
    }
   ],
   "source": [
    "print(math.sqrt(Fraction(49,9)))"
   ]
  },
  {
   "cell_type": "code",
   "execution_count": 20,
   "id": "0228c1ba-cb6a-4648-a131-92c7b640c80b",
   "metadata": {},
   "outputs": [
    {
     "name": "stdout",
     "output_type": "stream",
     "text": [
      "7/3\n"
     ]
    }
   ],
   "source": [
    "print(Fraction(math.sqrt(Fraction(49,9))).limit_denominator())"
   ]
  },
  {
   "cell_type": "code",
   "execution_count": null,
   "id": "f1b57e71-5055-4dfe-98f1-a1c5f4860217",
   "metadata": {},
   "outputs": [],
   "source": []
  },
  {
   "cell_type": "code",
   "execution_count": null,
   "id": "cccd785f-ac75-4811-8944-95e2d15cd956",
   "metadata": {},
   "outputs": [],
   "source": []
  }
 ],
 "metadata": {
  "kernelspec": {
   "display_name": "Python 3 (ipykernel)",
   "language": "python",
   "name": "python3"
  },
  "language_info": {
   "codemirror_mode": {
    "name": "ipython",
    "version": 3
   },
   "file_extension": ".py",
   "mimetype": "text/x-python",
   "name": "python",
   "nbconvert_exporter": "python",
   "pygments_lexer": "ipython3",
   "version": "3.13.3"
  }
 },
 "nbformat": 4,
 "nbformat_minor": 5
}
