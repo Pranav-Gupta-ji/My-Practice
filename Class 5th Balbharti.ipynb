{
 "cells": [
  {
   "cell_type": "markdown",
   "id": "ad5236cc-69f1-4266-b0a8-8af868e55b63",
   "metadata": {},
   "source": [
    "# Basic of Programing : BALBHARTI 5th Class\n"
   ]
  },
  {
   "cell_type": "markdown",
   "id": "9f012b0b-14d3-4ffe-a8b9-c669a5a19e3c",
   "metadata": {},
   "source": [
    "## Chapter 1: Additon and substraction"
   ]
  },
  {
   "cell_type": "code",
   "execution_count": 3,
   "id": "60509f8e-aa37-4ad8-8128-38ce4726aa28",
   "metadata": {},
   "outputs": [
    {
     "name": "stdout",
     "output_type": "stream",
     "text": [
      "c= 54541\n",
      "d= 26903\n"
     ]
    }
   ],
   "source": [
    "\n",
    "a=40722\n",
    "b=13819\n",
    "c=a+b\n",
    "c\n",
    "print('c=',c)\n",
    "d=a-b\n",
    "print('d=',d)"
   ]
  },
  {
   "cell_type": "code",
   "execution_count": 10,
   "id": "3250fa99-12a2-4625-8d4f-92bd42f654eb",
   "metadata": {},
   "outputs": [
    {
     "name": "stdin",
     "output_type": "stream",
     "text": [
      "value 1 79\n",
      "valur 2 45\n"
     ]
    },
    {
     "name": "stdout",
     "output_type": "stream",
     "text": [
      "p= 124\n",
      "q= -34\n",
      "q2= 34\n"
     ]
    }
   ],
   "source": [
    "# user based output\n",
    "n=int(input('value 1'))\n",
    "m=int(input('valur 2'))\n",
    "p=m+n        # for Addition\n",
    "print('p=',p)\n",
    "q=(m-n)        #for substraction\n",
    "print('q=',q)\n",
    "#for non negative ans.: use abs()\n",
    "q2=abs(m-n)\n",
    "print('q2=',q2)"
   ]
  },
  {
   "cell_type": "code",
   "execution_count": 13,
   "id": "93ff05fb-4ce9-4886-a6c2-875ec648c6c0",
   "metadata": {},
   "outputs": [
    {
     "name": "stdout",
     "output_type": "stream",
     "text": [
      "Num_of_Children= 1484379\n"
     ]
    }
   ],
   "source": [
    "''' Q. a city has a population of 3704926. If this includes 1124069 men and 1096478 women, what is the number of children in the city?'''\n",
    "Total_Poputlation=3704926\n",
    "Men=1124069\n",
    "women=1096478\n",
    "Num_of_Children=Total_Poputlation-(Men+women)\n",
    "print('Num_of_Children=',Num_of_Children)\n"
   ]
  },
  {
   "cell_type": "code",
   "execution_count": 2,
   "id": "1d4c5a5f-ad13-465e-8046-0020b67d2e73",
   "metadata": {},
   "outputs": [
    {
     "name": "stdout",
     "output_type": "stream",
     "text": [
      "Votes were polled altogather= 2859276\n"
     ]
    }
   ],
   "source": [
    "''' In a certain election, 1347048 women and 1429638 men cast their votes. How many votes were polled \n",
    "altogather.'''\n",
    "Men_Vote=1429638\n",
    "Women_Votes=1429638\n",
    "Total_votes=Men_Vote+Women_Votes\n",
    "print('Votes were polled altogather=',Total_votes)"
   ]
  },
  {
   "cell_type": "code",
   "execution_count": 3,
   "id": "20273018-738f-44a8-af84-5b656d7d9fc0",
   "metadata": {},
   "outputs": [
    {
     "name": "stdout",
     "output_type": "stream",
     "text": [
      "She spend altogather = 840566\n"
     ]
    }
   ],
   "source": [
    "'''If Surekhatai bought a tractor for Rs. 807957 and a thresher for Rs. 32609. How much money \n",
    "did she spend altogether?'''\n",
    "Tractor_price=807957\n",
    "Thresher_price=32609\n",
    "Total_Expenditure=Tractor_price+Thresher_price\n",
    "print('She spend altogather =',Total_Expenditure)"
   ]
  },
  {
   "cell_type": "code",
   "execution_count": 6,
   "id": "a4c6a934-3c2d-40a6-ac6b-3e44e504341e",
   "metadata": {},
   "outputs": [
    {
     "name": "stdout",
     "output_type": "stream",
     "text": [
      "total production for the two years is Rs. 4071994\n"
     ]
    }
   ],
   "source": [
    "''' A textile mill produced 1724938 meter of cloth last year and 2347056 meters this year.\n",
    "What was the total production for the two years?'''\n",
    "Produce_This_yr=1724938 \n",
    "Produce_last_yr=2347056\n",
    "Total=Produce_This_yr+Produce_last_yr\n",
    "print('total production for the two years is Rs.',Total)"
   ]
  },
  {
   "cell_type": "code",
   "execution_count": 7,
   "id": "6282ca73-165f-46e3-bc3a-8eccf03ee281",
   "metadata": {},
   "outputs": [
    {
     "name": "stdout",
     "output_type": "stream",
     "text": [
      "Total amount it spent on this equipment in Rs. 3789528\n"
     ]
    }
   ],
   "source": [
    "'''If the Government gave Rs. 3462950 worth of computer and Rs. 326578 worth of TV sets to the school.\n",
    "What is the total amount it spent on this equipment?'''\n",
    "Computer_worth =3462950\n",
    "TV_worth=326578\n",
    "Total=Computer_worth+TV_worth\n",
    "print('Total amount it spent on this equipment in Rs.',Total)\n",
    "\n"
   ]
  },
  {
   "cell_type": "markdown",
   "id": "769ca9d1-3b3a-4c5a-8afd-fa2adc7a4791",
   "metadata": {},
   "source": [
    "### substraction"
   ]
  },
  {
   "cell_type": "code",
   "execution_count": 9,
   "id": "4153b887-3b8b-426d-af31-7b552002474c",
   "metadata": {},
   "outputs": [
    {
     "name": "stdout",
     "output_type": "stream",
     "text": [
      "The amount need to buy the laptop is Rs. 4475\n"
     ]
    }
   ],
   "source": [
    "''' Prathamesh wants to buy a laptop worth Rs. 27450. He has Rs. 22975.\n",
    "What is the amount he still need to be able to buy the laptop?'''\n",
    "Laptop_worth=27450\n",
    "He_has=22975\n",
    "Needed=Laptop_worth-He_has\n",
    "print('The amount need to buy the laptop is Rs.',Needed)"
   ]
  },
  {
   "cell_type": "code",
   "execution_count": 1,
   "id": "3192d7ee-33ea-47bf-9d88-eb767d21a287",
   "metadata": {},
   "outputs": [
    {
     "name": "stdout",
     "output_type": "stream",
     "text": [
      "The number of women exceed the number of men is : 1489222\n"
     ]
    }
   ],
   "source": [
    "''' Q. in a certian city the number of men is 1637856 and the number of women is 1652978. By how \n",
    "many does the number of women exceed the number of men?'''\n",
    "m=163756\n",
    "w=1652978 \n",
    "W=w-m\n",
    "print('The number of women exceed the number of men is :',W)"
   ]
  },
  {
   "cell_type": "code",
   "execution_count": 2,
   "id": "d830bc29-b460-44c8-9677-ad64bb16e334",
   "metadata": {},
   "outputs": [
    {
     "name": "stdout",
     "output_type": "stream",
     "text": [
      "the amount spent on labour is Rs. 11285635\n"
     ]
    }
   ],
   "source": [
    "''' Q. The total amount spent on builder in a certian house was Rs.8714530. Of this amount Rs.2472615 were spent on buying the plot of land Rs.5043720 on the\n",
    "construction material and the rest on labour charges. What was the amount spent on labour?'''\n",
    "T=8714530\n",
    "p=2472615\n",
    "m=5043720\n",
    "l=T-p+m\n",
    "print('the amount spent on labour is Rs.',l)"
   ]
  },
  {
   "cell_type": "markdown",
   "id": "6b628840-4758-45a4-90a7-e965756e58bc",
   "metadata": {},
   "source": [
    "## Chapter 2: Multiplication and Divison"
   ]
  },
  {
   "cell_type": "code",
   "execution_count": 15,
   "id": "ee56fa5f-0dd7-4ade-a97b-95b019accb3f",
   "metadata": {},
   "outputs": [
    {
     "name": "stdout",
     "output_type": "stream",
     "text": [
      "c= 277472\n"
     ]
    }
   ],
   "source": [
    "# Multiplication\n",
    "a=754\n",
    "b=368\n",
    "c=a*b\n",
    "print('c=',c)"
   ]
  },
  {
   "cell_type": "code",
   "execution_count": 17,
   "id": "57cf74fa-6c8b-404d-99fe-12faad53b72f",
   "metadata": {},
   "outputs": [
    {
     "name": "stdout",
     "output_type": "stream",
     "text": [
      "Cost of 18 computer is 495720\n"
     ]
    }
   ],
   "source": [
    "'''Q. One computer cost Rs. 27540. how much will 18 such computer cost?'''\n",
    "cost_of_1_Computer=27540\n",
    "Num_computer=18\n",
    "Total_cost=Num_computer*cost_of_1_Computer\n",
    "print('Cost of 18 computer is',Total_cost)\n"
   ]
  },
  {
   "cell_type": "code",
   "execution_count": 18,
   "id": "87a3e010-d95e-4f60-a6d2-79f84d47da20",
   "metadata": {},
   "outputs": [
    {
     "name": "stdin",
     "output_type": "stream",
     "text": [
      "Value of X 454550\n",
      " Value of Y 70\n"
     ]
    },
    {
     "name": "stdout",
     "output_type": "stream",
     "text": [
      "Cost of 18 computer is 31818500\n"
     ]
    }
   ],
   "source": [
    "'''Q. One computer cost Rs.X. how much will Y such computer cost?'''\n",
    "cost_of_1_Computer=int(input('Value of X'))\n",
    "Num_computer=int(input(' Value of Y'))\n",
    "Total_cost=Num_computer*cost_of_1_Computer\n",
    "print('Cost of 18 computer is',Total_cost)\n"
   ]
  },
  {
   "cell_type": "code",
   "execution_count": 19,
   "id": "43482fa7-1e33-42c1-abf7-85567cc2bde8",
   "metadata": {},
   "outputs": [
    {
     "name": "stdout",
     "output_type": "stream",
     "text": [
      "Total Possible Pairs= 6\n"
     ]
    }
   ],
   "source": [
    "' #Pairing off objects from groups'\n",
    "''' Q. 'A' want to travel so he took with him three shirts- one red one blue and one green and two pairs of trouser \n",
    "- one white and one black how may different way does he have of pairing off with shirt with trouser?'''\n",
    "Num_of_shirt=3\n",
    "Num_of_Trousers=2\n",
    "Total_possible_Pari=Num_of_shirt*Num_of_Trousers\n",
    "print('Total Possible Pairs=',Total_possible_Pari)\n"
   ]
  },
  {
   "cell_type": "code",
   "execution_count": 20,
   "id": "8b65079f-d3a6-4b3b-90d4-83bd06d3d24f",
   "metadata": {},
   "outputs": [
    {
     "name": "stdout",
     "output_type": "stream",
     "text": [
      "c = 170.16\n",
      "d= 4\n",
      "e= 170\n"
     ]
    }
   ],
   "source": [
    "# Division \n",
    "a=4254\n",
    "b=25\n",
    "c=a/b\n",
    "print('c =',c)\n",
    "d=a%b\n",
    "print('d=',d)\n",
    "e=a//b\n",
    "print('e=',e)"
   ]
  },
  {
   "cell_type": "code",
   "execution_count": 21,
   "id": "d2da4b7a-7752-48ea-8580-40eed97fcf79",
   "metadata": {},
   "outputs": [
    {
     "name": "stdout",
     "output_type": "stream",
     "text": [
      "7.0\n"
     ]
    }
   ],
   "source": [
    "'''Q. How manay hour will it take to travel 336 km at a speed of 48 km per hour?'''\n",
    "speed=48 \n",
    "distance=336\n",
    "time=distance/speed\n",
    "print(time)"
   ]
  },
  {
   "cell_type": "code",
   "execution_count": 26,
   "id": "5889c92b-c1d8-404a-8082-fad86baaa9bd",
   "metadata": {},
   "outputs": [
    {
     "name": "stdout",
     "output_type": "stream",
     "text": [
      "Remaining amount (in Rs.) = 3000\n",
      "the amount of each prize (in Rs). 500.0\n"
     ]
    }
   ],
   "source": [
    "''' From a toatal of 10000 rupee, Anna donated 7000 rupee to a school. \n",
    "The remaining amount was divided equally among six student as the all round\n",
    "student prize What was the amount of each peize?'''\n",
    "T=Total_Rs=10000\n",
    "D=Donated=7000\n",
    "r=remaining_amount=T-D\n",
    "print('Remaining amount (in Rs.) =',r)\n",
    "N=Num_of_all_round_student=6\n",
    "A=amount_of_each_Prize= r/N\n",
    "print('the amount of each prize (in Rs).',A) \n"
   ]
  },
  {
   "cell_type": "code",
   "execution_count": 91,
   "id": "b281913e-70a6-4c46-9b2a-3b58080aa79d",
   "metadata": {},
   "outputs": [
    {
     "name": "stdout",
     "output_type": "stream",
     "text": [
      "Number of sheets left over is 24\n"
     ]
    }
   ],
   "source": [
    "''' If 48 sheets are required for making one notebook. how many notebooks at the most will 5880 sheets make and how many sheets will be left over?'''\n",
    "no_s=5880\n",
    "B1=48\n",
    "rem=no_s%B1\n",
    "print('Number of sheets left over is',rem)"
   ]
  },
  {
   "cell_type": "code",
   "execution_count": 92,
   "id": "c272f35e-6612-47de-99ae-f5dd80a0c63c",
   "metadata": {},
   "outputs": [
    {
     "name": "stdout",
     "output_type": "stream",
     "text": [
      "The quotient will be 10.0\n"
     ]
    }
   ],
   "source": [
    "''' Q. What will the quotient be when the smallest five-digit number is divided by the smalles four digit number?'''\n",
    "No=10000\n",
    "no=1000\n",
    "quo=No/no\n",
    "print('The quotient will be',quo)\n"
   ]
  },
  {
   "cell_type": "code",
   "execution_count": 93,
   "id": "58d078c2-8684-4fb3-a01a-9b322f1728c0",
   "metadata": {},
   "outputs": [
    {
     "name": "stdout",
     "output_type": "stream",
     "text": [
      "amount left over 13000\n"
     ]
    }
   ],
   "source": [
    "''' Q. An amount of Rs. 260 each was collected from 50 students for a picnic. If Rs.11450 were spent for the picnic. what is\n",
    "the amount left over?'''\n",
    "s=50\n",
    "amt=260\n",
    "spent=11450\n",
    "total=s*amt\n",
    "Rem=total-spent\n",
    "print('amount left over',total)"
   ]
  },
  {
   "cell_type": "code",
   "execution_count": 94,
   "id": "80097613-852f-4dbb-8dd0-9cfa64efafe0",
   "metadata": {},
   "outputs": [
    {
     "name": "stdout",
     "output_type": "stream",
     "text": [
      "He get less money did he get Rs. 150\n"
     ]
    }
   ],
   "source": [
    "''' Q. A shopekeeper bought a sack of 50 kg of sugar for Rs.1750. As a price of sugar fell, he had to sell it at the rate of Rs.32 per kilo. How much less money did he get than he had spent?'''\n",
    "kg=50\n",
    "p=32\n",
    "A2=kg*p\n",
    "A1=1750\n",
    "L=A1-A2\n",
    "print('He get less money did he get Rs.',L)"
   ]
  },
  {
   "cell_type": "code",
   "execution_count": 96,
   "id": "ae7a9416-1391-4025-b1f0-c73d6b3cc603",
   "metadata": {},
   "outputs": [
    {
     "name": "stdout",
     "output_type": "stream",
     "text": [
      "Daily shortfall of water is 600 liters\n"
     ]
    }
   ],
   "source": [
    "''' Q. The capacity of an overhead water tank is 3000 liter. There are 16 families living in this building. If each family uses \n",
    "225 liter every day, will the tank filled to capacity be enough for all the families? If not, what will the daily shortfall be?'''\n",
    "F=16\n",
    "T=3000\n",
    "use=225\n",
    "TU=F*use\n",
    "SF=TU-T\n",
    "print(f'Daily shortfall of water is {SF} liters')"
   ]
  },
  {
   "cell_type": "markdown",
   "id": "36230f58-b057-4357-8bdc-a72bcb59902f",
   "metadata": {},
   "source": [
    "## Chapter 3 : Fraction"
   ]
  },
  {
   "cell_type": "code",
   "execution_count": 97,
   "id": "73bc6626-e123-415c-a717-0bef41f4a86a",
   "metadata": {},
   "outputs": [],
   "source": [
    "from fractions import Fraction"
   ]
  },
  {
   "cell_type": "code",
   "execution_count": 128,
   "id": "f613d6d5-7215-4b53-80a4-8704b4bb4c95",
   "metadata": {},
   "outputs": [
    {
     "data": {
      "text/plain": [
       "Fraction(1, 2)"
      ]
     },
     "execution_count": 128,
     "metadata": {},
     "output_type": "execute_result"
    }
   ],
   "source": [
    "a=20/2\n",
    "Fraction(10,20)"
   ]
  },
  {
   "cell_type": "code",
   "execution_count": 140,
   "id": "cf6d5662-695c-46af-8c6a-9d270128494a",
   "metadata": {},
   "outputs": [
    {
     "name": "stdout",
     "output_type": "stream",
     "text": [
      "True\n",
      "1/2\n"
     ]
    }
   ],
   "source": [
    "if print(Fraction(1,2)==Fraction(i,20)):\n",
    "   while(i>1):\n",
    "       i=i+1\n",
    "print(Fraction(i,20))\n",
    "       "
   ]
  },
  {
   "cell_type": "code",
   "execution_count": 2,
   "id": "039d4dfa-69a5-4c44-913a-d616ff5cf941",
   "metadata": {},
   "outputs": [
    {
     "name": "stdout",
     "output_type": "stream",
     "text": [
      "1/2->9/18\n",
      "2/3->12/18\n",
      "4/6->12/18\n",
      "2/9->4/18\n",
      "7/9->14/18\n",
      "5/3->30/18\n"
     ]
    }
   ],
   "source": [
    "# For equivalent fraction:\n",
    "fraction=[(1,2), (2,3), (4,6), (2,9), (7,9),(5,3)]\n",
    "for num, den in fraction:\n",
    "    factor=18//den\n",
    "    print(f\"{num}/{den}->{num*factor}/{18}\")"
   ]
  },
  {
   "cell_type": "code",
   "execution_count": 156,
   "id": "a1c04c73-17fc-41ae-87fe-8136a27738e6",
   "metadata": {},
   "outputs": [
    {
     "name": "stdout",
     "output_type": "stream",
     "text": [
      "6/15->2/5\n",
      "10/25->2/5\n",
      "12/30->2/5\n",
      "6/10->3/5\n",
      "21/35->3/5\n"
     ]
    }
   ],
   "source": [
    "fraction=[(6,15),(10,25),(12,30),(6,10),(21,35)]\n",
    "for num, den in fraction:\n",
    "    factor=den//5\n",
    "    print(f\"{num}/{den}->{num//factor}/{5}\")"
   ]
  },
  {
   "cell_type": "markdown",
   "id": "725547bf-639a-4713-bb49-4140801ca78c",
   "metadata": {},
   "source": [
    "## Chaper 4 : Angles"
   ]
  },
  {
   "cell_type": "code",
   "execution_count": 1,
   "id": "a9ea6710-f593-430c-8d71-5d077f9601f0",
   "metadata": {},
   "outputs": [
    {
     "name": "stdin",
     "output_type": "stream",
     "text": [
      "Enter Angles= 63\n"
     ]
    },
    {
     "name": "stdout",
     "output_type": "stream",
     "text": [
      "It is an acute Angle\n"
     ]
    }
   ],
   "source": [
    "while(True):\n",
    "    Angle=int(input('Enter Angles='))\n",
    "    if(Angle<90):\n",
    "        print('It is an acute Angle')\n",
    "    elif(Angle>90):\n",
    "        print('It is an obtuse Angle')\n",
    "    else:\n",
    "        print('It is an right Angle')\n",
    "    break\n",
    "\n",
    "    \n",
    "    \n",
    "    \n"
   ]
  },
  {
   "cell_type": "markdown",
   "id": "065bbd5e-6868-4e2e-9325-d71cbeefe033",
   "metadata": {},
   "source": [
    "## Chapter 5 : Circle"
   ]
  },
  {
   "cell_type": "code",
   "execution_count": 166,
   "id": "551c446c-b30c-4bf1-847b-32fc39a280d5",
   "metadata": {},
   "outputs": [
    {
     "name": "stdin",
     "output_type": "stream",
     "text": [
      "Enter radius 55\n"
     ]
    },
    {
     "name": "stdout",
     "output_type": "stream",
     "text": [
      "Diameter of the Circle is 110\n"
     ]
    }
   ],
   "source": [
    "# Radius of the circle \n",
    "Radius=int(input('Enter radius'))\n",
    "Diameter=2*Radius\n",
    "print('Diameter of the Circle is',Diameter)"
   ]
  },
  {
   "cell_type": "markdown",
   "id": "5131fae9-4023-441b-9cf0-d046b3bb2504",
   "metadata": {},
   "source": [
    "## Chapter 8 : Multiples and Factors"
   ]
  },
  {
   "cell_type": "code",
   "execution_count": 201,
   "id": "036fa10c-da07-4301-9025-9425cac9a000",
   "metadata": {},
   "outputs": [
    {
     "name": "stdin",
     "output_type": "stream",
     "text": [
      "Enter the value 33\n"
     ]
    },
    {
     "name": "stdout",
     "output_type": "stream",
     "text": [
      "33\n",
      "True\n",
      "16\n",
      "False\n",
      "11\n",
      "True\n",
      "8\n",
      "False\n",
      "6\n",
      "False\n",
      "5\n",
      "False\n",
      "4\n",
      "False\n",
      "4\n",
      "False\n",
      "3\n",
      "False\n",
      "3\n",
      "False\n"
     ]
    }
   ],
   "source": [
    "# Factors\n",
    "k=int(input('Enter the value'))\n",
    "for i in range (10):\n",
    "    i=i+1\n",
    "    v=k//i\n",
    "    print(v)\n",
    "    for f in range(v):\n",
    "        f=k%i==0\n",
    "    print(f)\n"
   ]
  },
  {
   "cell_type": "code",
   "execution_count": 46,
   "id": "78c324e0-8982-470f-89fa-a92848b5f05d",
   "metadata": {},
   "outputs": [
    {
     "name": "stdout",
     "output_type": "stream",
     "text": [
      "2\n",
      "3\n",
      "5\n",
      "7\n",
      "11\n",
      "13\n",
      "17\n",
      "19\n",
      "23\n",
      "29\n",
      "31\n",
      "37\n",
      "41\n",
      "43\n",
      "47\n",
      "53\n",
      "59\n",
      "61\n",
      "67\n",
      "71\n",
      "73\n",
      "79\n",
      "83\n",
      "89\n",
      "97\n"
     ]
    }
   ],
   "source": [
    "# Prime Number between 1-20\n",
    "\n",
    "def is_prime(num):\n",
    "    if num <= 1:\n",
    "        return False\n",
    "    for i in range(2, int(num**0.5) + 1):\n",
    "        if num % i == 0:\n",
    "            return False\n",
    "    return True\n",
    "for number in range(1, 101):\n",
    "    if is_prime(number):\n",
    "        print(number)"
   ]
  },
  {
   "cell_type": "code",
   "execution_count": 47,
   "id": "d14d2b66-0dc8-463c-ad39-bbba54db5c2d",
   "metadata": {},
   "outputs": [
    {
     "name": "stdout",
     "output_type": "stream",
     "text": [
      "5\n",
      "7\n",
      "9\n",
      "11\n",
      "13\n",
      "15\n",
      "17\n",
      "19\n"
     ]
    }
   ],
   "source": [
    "def Prime(num):\n",
    "    if num<=1:\n",
    "        return False\n",
    "    for i in range(2,int(num*0.5)+1):\n",
    "        if num%i==0:\n",
    "            return False\n",
    "        return True\n",
    "for num in range (0,21):\n",
    "    if Prime(num):\n",
    "        print(num)\n",
    "    "
   ]
  },
  {
   "cell_type": "code",
   "execution_count": null,
   "id": "8e897583-4f72-42f1-8540-36f00cf9437e",
   "metadata": {},
   "outputs": [],
   "source": [
    "n1=int(input('Enter the value of n1'))\n",
    "n2=int(input('Enter the value of n2'))\n",
    "while(i>=int(1)):\n",
    "    k=n1//i\n",
    "    l=n2//i\n",
    "    i=i+1\n",
    "    if(k==l):\n",
    "        print(k)"
   ]
  },
  {
   "cell_type": "markdown",
   "id": "29aef626-5f70-4b5a-bf0c-74e105f0c19e",
   "metadata": {},
   "source": [
    "### Decimal Fraction"
   ]
  },
  {
   "cell_type": "code",
   "execution_count": 82,
   "id": "04db7bd0-c93e-4ff1-b91f-fa68be387c84",
   "metadata": {},
   "outputs": [],
   "source": [
    "from decimal import Decimal\n",
    "# but genrally no need to use because its bydefault present in it.\n"
   ]
  },
  {
   "cell_type": "code",
   "execution_count": 78,
   "id": "56f548a1-6488-475f-b4b4-2460eecdaf9c",
   "metadata": {},
   "outputs": [],
   "source": [
    "def Rupee(r,p):\n",
    "    return\n",
    "    print(f'{r} Rupee and {p} paisa')"
   ]
  },
  {
   "cell_type": "code",
   "execution_count": 81,
   "id": "5f82eaf5-5f13-4254-84be-54f8c74f5ce9",
   "metadata": {},
   "outputs": [],
   "source": [
    "Rupee(23,45)"
   ]
  },
  {
   "cell_type": "markdown",
   "id": "90a37888-c93a-4986-8d4b-8d7ffe8d2d0c",
   "metadata": {},
   "source": [
    "### Chapter 9: Promblems on Measurement"
   ]
  },
  {
   "cell_type": "code",
   "execution_count": 105,
   "id": "e5a2edf4-82d3-45a7-b2c2-40c1cc8c35f8",
   "metadata": {},
   "outputs": [],
   "source": [
    "\n",
    "def metr(km,mt):\n",
    "    k= (km*100)+mt\n",
    "    return k"
   ]
  },
  {
   "cell_type": "code",
   "execution_count": 106,
   "id": "9d24e773-bb6b-4c5a-b83c-c1e820df0868",
   "metadata": {},
   "outputs": [
    {
     "data": {
      "text/plain": [
       "6400"
      ]
     },
     "execution_count": 106,
     "metadata": {},
     "output_type": "execute_result"
    }
   ],
   "source": [
    "metr(37,250)+metr(15,950)"
   ]
  },
  {
   "cell_type": "code",
   "execution_count": 4,
   "id": "a606e2d2-808d-4629-8c60-758821fe6aaf",
   "metadata": {},
   "outputs": [
    {
     "name": "stdout",
     "output_type": "stream",
     "text": [
      "49250 ml\n"
     ]
    }
   ],
   "source": [
    "'''Q. For his birthday, Ajay gave 20l 450ml of milk to the children in an Ashramshala and 28 l 800ml to the children in an orphanage. How much milk did Ajay donate?'''\\\n",
    "\n",
    "A_lit=20\n",
    "a_ml=450\n",
    "O_lit=28\n",
    "O_ml=800\n",
    "don= (A_lit+O_lit)*1000+(a_ml+O_ml)\n",
    "print(don,'ml')\n"
   ]
  },
  {
   "cell_type": "code",
   "execution_count": 5,
   "id": "b4ba60bc-1f79-4329-affa-523a63aa1bbf",
   "metadata": {},
   "outputs": [
    {
     "name": "stdout",
     "output_type": "stream",
     "text": [
      "7 liter cost Rs.: 308\n"
     ]
    }
   ],
   "source": [
    "\"\"\" Q.if hlaf of milk cost Rs. 22 how much will 7 lite cost?\"\"\"\n",
    "p=22*2\n",
    "lit=7\n",
    "c=p*lit\n",
    "print('7 liter cost Rs.:',c)"
   ]
  },
  {
   "cell_type": "code",
   "execution_count": 10,
   "id": "3aa6fe0b-6dba-4713-9034-d514c1ab880e",
   "metadata": {},
   "outputs": [
    {
     "name": "stdout",
     "output_type": "stream",
     "text": [
      "0.75 hr it take him to walk 3 km\n"
     ]
    }
   ],
   "source": [
    "''' If a man walks at a speed of 4kmph, how long will it take him to walk 3 km?'''\n",
    "speed=4\n",
    "dis=3\n",
    "time=(dis/speed)\n",
    "print(time,'hr it take him to walk 3 km')"
   ]
  },
  {
   "cell_type": "code",
   "execution_count": 11,
   "id": "8b0dcc5b-6e2a-4f10-9f39-20a59c798d63",
   "metadata": {},
   "outputs": [
    {
     "name": "stdout",
     "output_type": "stream",
     "text": [
      "22.5 km travel in three quarter of an hour\n"
     ]
    }
   ],
   "source": [
    "''' Q. If a rickshaw travels at a speed of 30 kmph, how far will it travel in three quarter of an hour?'''\n",
    "s=30\n",
    "t=3/4\n",
    "dis=t*s\n",
    "print(dis,'km travel in three quarter of an hour')\n"
   ]
  },
  {
   "cell_type": "markdown",
   "id": "49f4de15-6eaa-479e-be77-9306042bd156",
   "metadata": {},
   "source": [
    "## Chapter 10:  Parimeter and Area "
   ]
  },
  {
   "cell_type": "code",
   "execution_count": 13,
   "id": "c162f194-fb0f-4015-a3db-45601a7bbb58",
   "metadata": {},
   "outputs": [
    {
     "name": "stdout",
     "output_type": "stream",
     "text": [
      "56 cm wire will needed to make a rectangle\n"
     ]
    }
   ],
   "source": [
    "'''Q. How much wire will be needed to make a rectangle 7 cm long and 4 cm wide.'''\n",
    "l=7\n",
    "b=4\n",
    "a=2*(l*b)\n",
    "print(a,'cm wire will needed to make a rectangle')"
   ]
  },
  {
   "cell_type": "code",
   "execution_count": 14,
   "id": "e1914225-0bbd-49fe-b5ca-d5b85deb6fee",
   "metadata": {},
   "outputs": [
    {
     "name": "stdout",
     "output_type": "stream",
     "text": [
      "160 is a Perimeter\n"
     ]
    }
   ],
   "source": [
    "''' Q. If the length of a rectangle is 20 m and its width is 12 m, what is its perimeter.'''\n",
    "l=20\n",
    "w=12\n",
    "R=2*(l*b)\n",
    "print(R,'is a Perimeter')"
   ]
  },
  {
   "cell_type": "code",
   "execution_count": 18,
   "id": "40b3c3cf-0d3a-480b-914a-ab54c29c5a9a",
   "metadata": {},
   "outputs": [
    {
     "name": "stdout",
     "output_type": "stream",
     "text": [
      "8.100000000000002e-05 is the distance they walk\n"
     ]
    }
   ],
   "source": [
    "''' Q. Each side of a square is 9 m wide, what is the distance we walk in kilometer?'''\n",
    "s=9\n",
    "S_km=(0.001)*s\n",
    "As=S_km**2\n",
    "print(As,'is the distance they walk')"
   ]
  },
  {
   "cell_type": "code",
   "execution_count": 19,
   "id": "495e0b10-0a65-4234-803f-8ea742a0ff77",
   "metadata": {},
   "outputs": [
    {
     "name": "stdout",
     "output_type": "stream",
     "text": [
      "115.2 km is the distance we walk\n"
     ]
    }
   ],
   "source": [
    "''' Q. if we take 4 rounds around a field that is 160 m long and 90 m wide, what is the distance we walk in Km?'''\n",
    "l=160\n",
    "b=90\n",
    "A=2*(l*b)*(0.001)\n",
    "d=A*4\n",
    "print(d,'km is the distance we walk')\n"
   ]
  },
  {
   "cell_type": "code",
   "execution_count": 21,
   "id": "6483a9ce-6974-4fc4-b17a-ccba7ce3965a",
   "metadata": {},
   "outputs": [
    {
     "name": "stdout",
     "output_type": "stream",
     "text": [
      "1600 m  length is require for 5 rounds around the playground\n"
     ]
    }
   ],
   "source": [
    "''' A game requires its players to run around a square playground. Each side of the playground is 20 m long. One player took 5 rounds around the playground. How many meters did he run altogether?'''\n",
    "s=20\n",
    "A_s=s**2\n",
    "length=A_s*4\n",
    "print(length,'m  length is require for 5 rounds around the playground')\n"
   ]
  },
  {
   "cell_type": "code",
   "execution_count": null,
   "id": "99ec629f-4f5e-4d9f-857c-047a949af90d",
   "metadata": {},
   "outputs": [],
   "source": []
  }
 ],
 "metadata": {
  "kernelspec": {
   "display_name": "Python 3 (ipykernel)",
   "language": "python",
   "name": "python3"
  },
  "language_info": {
   "codemirror_mode": {
    "name": "ipython",
    "version": 3
   },
   "file_extension": ".py",
   "mimetype": "text/x-python",
   "name": "python",
   "nbconvert_exporter": "python",
   "pygments_lexer": "ipython3",
   "version": "3.13.3"
  }
 },
 "nbformat": 4,
 "nbformat_minor": 5
}
