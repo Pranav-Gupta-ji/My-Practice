{
 "cells": [
  {
   "cell_type": "markdown",
   "id": "9491a3a9-534c-4634-9224-5395d9742124",
   "metadata": {},
   "source": [
    "# Practice set of : If ,elif and else Condition. "
   ]
  },
  {
   "cell_type": "code",
   "execution_count": 42,
   "id": "ca190ba6-cdff-4c4b-bfe8-2c1e0f6786b0",
   "metadata": {},
   "outputs": [
    {
     "name": "stdin",
     "output_type": "stream",
     "text": [
      "Please Enter Your Marks 79\n"
     ]
    },
    {
     "name": "stdout",
     "output_type": "stream",
     "text": [
      "C Grade\n"
     ]
    }
   ],
   "source": [
    "'''Q Write a program to accept percentage from the user and display the grade according to the following criteria:'''\n",
    "M=int(input('Please Enter Your Marks'))\n",
    "if(M>90):\n",
    "    print('A Grade')\n",
    "elif(90>=M>80):\n",
    "    print('B Grade')\n",
    "elif(80>=M>=60):\n",
    "    print('C Grade')\n",
    "else: print('D Grade')"
   ]
  },
  {
   "cell_type": "code",
   "execution_count": 7,
   "id": "c710807c-363a-4773-ba06-e57f2f348b11",
   "metadata": {
    "collapsed": true,
    "jupyter": {
     "outputs_hidden": true
    }
   },
   "outputs": [
    {
     "name": "stdin",
     "output_type": "stream",
     "text": [
      "Please Enter Cost Price (in Rs.) 200000\n"
     ]
    },
    {
     "name": "stdout",
     "output_type": "stream",
     "text": [
      "15% Tax\n"
     ]
    }
   ],
   "source": [
    "'''Q. Write a program to accept the cost price of a bike and display the road tas to be paid according to the following criteria:'''\n",
    "c=int(input('Please Enter Cost Price (in Rs.)'))\n",
    "if(c>100000):\n",
    "    print('15% Tax')\n",
    "elif(100000<=c>50000):\n",
    "    print('10% Tax')\n",
    "else:\n",
    "    print('5% Tax')"
   ]
  },
  {
   "cell_type": "code",
   "execution_count": 11,
   "id": "1c7f62ec-18a4-49f5-9a14-97633fcca2c6",
   "metadata": {},
   "outputs": [
    {
     "name": "stdin",
     "output_type": "stream",
     "text": [
      "Enter year 1947\n"
     ]
    },
    {
     "name": "stdout",
     "output_type": "stream",
     "text": [
      "1947 is not Leap Year\n"
     ]
    }
   ],
   "source": [
    "'''Q. Write a program to check wether an year is leap year or not.'''\n",
    "y=int(input('Enter year'))\n",
    "if(y%4==0):\n",
    "    print(y,'is a Leap Year')\n",
    "elif(y%400==0):\n",
    "    print(y,'is a Leap Year')\n",
    "else:\n",
    "    print(y,'is not Leap Year')"
   ]
  },
  {
   "cell_type": "code",
   "execution_count": 20,
   "id": "91dfd6a9-14dc-4f63-a872-d3ca865cba40",
   "metadata": {},
   "outputs": [
    {
     "name": "stdin",
     "output_type": "stream",
     "text": [
      "Enter day number 465\n"
     ]
    },
    {
     "name": "stdout",
     "output_type": "stream",
     "text": [
      "Please enter day number between 1 to 7\n"
     ]
    }
   ],
   "source": [
    "'''Q. Write a program to accept a number from 1 to 7 and display the name of the day like 1 for Sunday, 2 for Monday and so on.'''\n",
    "d=int(input('Enter day number'))\n",
    "if(d==1):\n",
    "    print('Sunday')\n",
    "elif(d==2):\n",
    "    print('Monday')\n",
    "elif(d==3):\n",
    "    print('Tuesday')\n",
    "elif(d==4):\n",
    "    print('Wednesday')\n",
    "elif(d==5):\n",
    "    print('Thursday')\n",
    "elif(d==6):\n",
    "    print('Friday')\n",
    "elif(d==7):\n",
    "    print('Saturday')\n",
    "else:\n",
    "    print('Please enter day number between 1 to 7')"
   ]
  },
  {
   "cell_type": "code",
   "execution_count": 24,
   "id": "9a45087b-6282-4a64-84e8-c62ce5aad353",
   "metadata": {},
   "outputs": [
    {
     "name": "stdin",
     "output_type": "stream",
     "text": [
      "Enter number 7\n"
     ]
    },
    {
     "name": "stdout",
     "output_type": "stream",
     "text": [
      "7 : July-> 31 days\n"
     ]
    }
   ],
   "source": [
    "'''Q. Write a program to accept a number from 1 to 12 and display name of the month and day in that month like 1 for January and number of teh days 31 and so on.'''\n",
    "n=int(input('Enter number'))\n",
    "if(n==1):\n",
    "    print(n,': January-> 31 days')\n",
    "elif(n==2):\n",
    "    print(n,': February-> 28 days in normal year and 29 days during Leap year')\n",
    "elif(n==3):\n",
    "    print(n,': March-> 31 days')\n",
    "elif(n==4):\n",
    "    print(n,': April-> 30 days')\n",
    "elif(n==5):\n",
    "    print(n,': May-> 31 days')\n",
    "elif(n==6):\n",
    "    print(n,': June-> 30 days')\n",
    "elif(n==7):\n",
    "    print(n,': July-> 31 days')\n",
    "elif(n==8):\n",
    "    print(n,': August-> 31 days')\n",
    "elif(n==9):\n",
    "    print(n,': September-> 30 days')\n",
    "elif(n==10):\n",
    "    print(n,': Octomber-> 31 days')\n",
    "elif(n==11):\n",
    "    print(n,': November-> 30 days')\n",
    "elif(n==12):\n",
    "    print(n,':December-> 31 days')\n",
    "else:\n",
    "    print('Please enter corrct number between 1 to 12')"
   ]
  },
  {
   "cell_type": "code",
   "execution_count": 26,
   "id": "7433bc88-cae1-4913-bfd2-3274cc94c496",
   "metadata": {},
   "outputs": [
    {
     "name": "stdin",
     "output_type": "stream",
     "text": [
      "Enter value of a 48\n",
      "Enter Value of b 795\n",
      "Enter value of c 177\n",
      "Enter value of d 754\n"
     ]
    },
    {
     "name": "stdout",
     "output_type": "stream",
     "text": [
      "b is grater than a\n",
      "d is grater than c\n"
     ]
    }
   ],
   "source": [
    "\"\"\"Q. write a logical expression for the following: A is grater than B and C is grater than D\"\"\"\n",
    "a=int(input('Enter value of a'))\n",
    "b=int(input('Enter Value of b'))\n",
    "c=int(input('Enter value of c'))\n",
    "d=int(input('Enter value of d'))\n",
    "if(a>b):\n",
    "    print('a is grater than b')\n",
    "else:\n",
    "    print('b is grater than a') \n",
    "if(c>d):\n",
    "    print('c is grater than d')\n",
    "else:\n",
    "    print('d is grater than c')"
   ]
  },
  {
   "cell_type": "code",
   "execution_count": 27,
   "id": "abef629c-7f27-46c4-9eda-a6a8032db62b",
   "metadata": {},
   "outputs": [
    {
     "name": "stdin",
     "output_type": "stream",
     "text": [
      "Enter Citys Name Agra\n"
     ]
    },
    {
     "name": "stdout",
     "output_type": "stream",
     "text": [
      "Agra : Taj Mahal\n"
     ]
    }
   ],
   "source": [
    "'''Q. Accept any city from the user and display monument of that city.'''\n",
    "c=input('Enter Citys Name')\n",
    "if(c=='Delhi'):\n",
    "    print(c,': Red Fort')\n",
    "elif(c=='Agra'):\n",
    "    print(c,': Taj Mahal')\n",
    "elif(c=='Jaipur'):\n",
    "    print(c,': Jal Mahal')\n",
    "else:\n",
    "    print('Enter this names only Delhi, Agra and Jaipur')"
   ]
  },
  {
   "cell_type": "code",
   "execution_count": 28,
   "id": "beb74f87-34a8-4985-b118-2134e760b120",
   "metadata": {},
   "outputs": [
    {
     "name": "stdout",
     "output_type": "stream",
     "text": [
      "Hello\n"
     ]
    }
   ],
   "source": [
    "\"\"\" Q. Write the output of the following if.\"\"\"\n",
    "a=9\n",
    "if(a>5 and a<=10):\n",
    "    print('Hello')\n",
    "else:\n",
    "    print('Bye')"
   ]
  },
  {
   "cell_type": "code",
   "execution_count": 30,
   "id": "b27519b9-02d7-47be-90e1-9e8f216b0e26",
   "metadata": {},
   "outputs": [
    {
     "name": "stdin",
     "output_type": "stream",
     "text": [
      "Enter the Number 154\n"
     ]
    },
    {
     "name": "stdout",
     "output_type": "stream",
     "text": [
      "It is three digit number\n"
     ]
    }
   ],
   "source": [
    "n=int(input('Enter the Number'))\n",
    "if(99<n<1000):\n",
    "    print('It is three digit number')\n",
    "else:\n",
    "    print('It is not three digit number')"
   ]
  },
  {
   "cell_type": "code",
   "execution_count": 33,
   "id": "16d53f94-65f3-40be-8d3a-b1c635bbf998",
   "metadata": {},
   "outputs": [
    {
     "name": "stdin",
     "output_type": "stream",
     "text": [
      "Enter the Age 17\n"
     ]
    },
    {
     "name": "stdout",
     "output_type": "stream",
     "text": [
      "Not Eligible for Voting\n"
     ]
    }
   ],
   "source": [
    "Age=int(input('Enter the Age'))\n",
    "if(Age>=18):\n",
    "    print('Eligible for Voting')\n",
    "else:\n",
    "    print('Not Eligible for Voting')"
   ]
  },
  {
   "cell_type": "code",
   "execution_count": 34,
   "id": "2f1f926f-4ba9-40ce-9be6-4124e4505674",
   "metadata": {},
   "outputs": [
    {
     "name": "stdin",
     "output_type": "stream",
     "text": [
      "Enter the age 48\n"
     ]
    },
    {
     "name": "stdout",
     "output_type": "stream",
     "text": [
      "Person is not senior Citizen\n"
     ]
    }
   ],
   "source": [
    "'''Q. Write a program to check wether a person is senior citizen or not?'''\n",
    "Age=int(input('Enter the age'))\n",
    "if(Age>=75):\n",
    "    print('Person is senior citizen')\n",
    "else:\n",
    "    print('Person is not senior Citizen')"
   ]
  },
  {
   "cell_type": "code",
   "execution_count": 35,
   "id": "43d975da-1e29-44c9-9044-51feaea3b11d",
   "metadata": {},
   "outputs": [
    {
     "name": "stdin",
     "output_type": "stream",
     "text": [
      "Enter values for a 55\n",
      "Enter values for b 79\n"
     ]
    },
    {
     "name": "stdout",
     "output_type": "stream",
     "text": [
      "55 is the lowest number\n"
     ]
    }
   ],
   "source": [
    "'''Q. Wrte a program to find the lowest number out of two numbers excepted from user.'''\n",
    "a=int(input('Enter values for a'))\n",
    "b=int(input('Enter values for b'))\n",
    "if(a>b):\n",
    "    print(b,'is the lowest number')\n",
    "else:\n",
    "    print(a,'is the lowest number')"
   ]
  },
  {
   "cell_type": "code",
   "execution_count": 36,
   "id": "c44e1ff6-49f1-4b7d-8325-0b9653cccd3c",
   "metadata": {},
   "outputs": [
    {
     "name": "stdin",
     "output_type": "stream",
     "text": [
      "Enter values for a 48\n",
      "Enter values for b 46\n"
     ]
    },
    {
     "name": "stdout",
     "output_type": "stream",
     "text": [
      "48 is the largest number\n"
     ]
    }
   ],
   "source": [
    "'''Q. Wrte a program to find the largest number out of two numbers excepted from user.'''\n",
    "a=int(input('Enter values for a'))\n",
    "b=int(input('Enter values for b'))\n",
    "if(a>b):\n",
    "    print(a,'is the largest number')\n",
    "else:\n",
    "    print(b,'is the largest number')"
   ]
  },
  {
   "cell_type": "code",
   "execution_count": 38,
   "id": "df3832d4-0c6b-43d3-8749-52cc493938c9",
   "metadata": {},
   "outputs": [
    {
     "name": "stdin",
     "output_type": "stream",
     "text": [
      "Enter the number -85\n"
     ]
    },
    {
     "name": "stdout",
     "output_type": "stream",
     "text": [
      "Number is negative\n"
     ]
    }
   ],
   "source": [
    "'''Q write a program to check wether a number (accepted from user) is positive or negative.'''\n",
    "num=int(input('Enter the number'))\n",
    "if(num>0):\n",
    "    print('Number is positive')\n",
    "else:\n",
    "    print('Number is negative')"
   ]
  },
  {
   "cell_type": "code",
   "execution_count": 41,
   "id": "d93ca8c8-cef9-4e31-b372-566ac6486d85",
   "metadata": {},
   "outputs": [
    {
     "name": "stdin",
     "output_type": "stream",
     "text": [
      "Enter the number 11\n"
     ]
    },
    {
     "name": "stdout",
     "output_type": "stream",
     "text": [
      "11 is not divisible by 2 and 3 both\n"
     ]
    }
   ],
   "source": [
    "''' Q. Write a program to whether a number (accepted form user) is divisible by 2 and 3 both:'''\n",
    "num=int(input('Enter the number'))\n",
    "if(num%2==0 and num%3==0):\n",
    "    print(num,'is divisible by 2 and 3 both') \n",
    "else:\n",
    "    print(num,'is not divisible by 2 and 3 both')"
   ]
  },
  {
   "cell_type": "code",
   "execution_count": null,
   "id": "953a13f8-95b1-4ba1-9e02-729ff7b39c7c",
   "metadata": {},
   "outputs": [],
   "source": []
  }
 ],
 "metadata": {
  "kernelspec": {
   "display_name": "Python 3 (ipykernel)",
   "language": "python",
   "name": "python3"
  },
  "language_info": {
   "codemirror_mode": {
    "name": "ipython",
    "version": 3
   },
   "file_extension": ".py",
   "mimetype": "text/x-python",
   "name": "python",
   "nbconvert_exporter": "python",
   "pygments_lexer": "ipython3",
   "version": "3.13.3"
  }
 },
 "nbformat": 4,
 "nbformat_minor": 5
}
